{
 "cells": [
  {
   "cell_type": "code",
   "execution_count": 2,
   "id": "4b17e54b-0e05-41ab-b889-01f5068ecd23",
   "metadata": {},
   "outputs": [
    {
     "name": "stdout",
     "output_type": "stream",
     "text": [
      "[20.0,0.0],[18.4776,7.6537],[14.1421,14.1421],[7.6537,18.4776],[0.0,20.0],[-7.6537,18.4776],[-14.1421,14.1421],[-18.4776,7.6537],[-20.0,0.0],[-18.4776,-7.6537],[-14.1421,-14.1421],[-7.6537,-18.4776],[0.0,-20.0],[7.6537,-18.4776],[14.1421,-14.1421],[18.4776,-7.6537],\n"
     ]
    }
   ],
   "source": [
    "import numpy as np\n",
    "\n",
    "n = 16 #number of vertices\n",
    "r = 20  #radius\n",
    "c = 4  #rounding decimal place\n",
    "val = \"\"\n",
    "for i in range(n):\n",
    "    x = r * np.cos(2*np.pi*i/n)\n",
    "    y = r * np.sin(2*np.pi*i/n)\n",
    "    x = np.floor(x*10**c + 0.5)/(10**c)\n",
    "    y = np.floor(y*10**c + 0.5)/(10**c)\n",
    "    val += \"[%s,%s],\" % (x, y)\n",
    "print(val)"
   ]
  },
  {
   "cell_type": "code",
   "execution_count": null,
   "id": "4043c271-1580-4743-bdb7-818160797034",
   "metadata": {},
   "outputs": [],
   "source": []
  }
 ],
 "metadata": {
  "kernelspec": {
   "display_name": "base",
   "language": "python",
   "name": "python3"
  },
  "language_info": {
   "codemirror_mode": {
    "name": "ipython",
    "version": 3
   },
   "file_extension": ".py",
   "mimetype": "text/x-python",
   "name": "python",
   "nbconvert_exporter": "python",
   "pygments_lexer": "ipython3",
   "version": "3.12.7"
  }
 },
 "nbformat": 4,
 "nbformat_minor": 5
}
